{
 "cells": [
  {
   "cell_type": "code",
   "execution_count": 2,
   "metadata": {},
   "outputs": [],
   "source": [
    "#importando as bibliotecas\n",
    "import pandas as pd\n",
    "import matplotlib.pyplot as plt"
   ]
  },
  {
   "cell_type": "code",
   "execution_count": 4,
   "metadata": {},
   "outputs": [],
   "source": [
    "#lendo o arquivo csv\n",
    "titanic = pd.read_csv('titanic.csv')"
   ]
  },
  {
   "cell_type": "code",
   "execution_count": 6,
   "metadata": {
    "scrolled": true
   },
   "outputs": [
    {
     "data": {
      "text/html": [
       "<div>\n",
       "<style scoped>\n",
       "    .dataframe tbody tr th:only-of-type {\n",
       "        vertical-align: middle;\n",
       "    }\n",
       "\n",
       "    .dataframe tbody tr th {\n",
       "        vertical-align: top;\n",
       "    }\n",
       "\n",
       "    .dataframe thead th {\n",
       "        text-align: right;\n",
       "    }\n",
       "</style>\n",
       "<table border=\"1\" class=\"dataframe\">\n",
       "  <thead>\n",
       "    <tr style=\"text-align: right;\">\n",
       "      <th></th>\n",
       "      <th>Survived</th>\n",
       "      <th>Pclass</th>\n",
       "      <th>Name</th>\n",
       "      <th>Sex</th>\n",
       "      <th>Age</th>\n",
       "      <th>Siblings/Spouses Aboard</th>\n",
       "      <th>Parents/Children Aboard</th>\n",
       "      <th>Fare</th>\n",
       "    </tr>\n",
       "  </thead>\n",
       "  <tbody>\n",
       "    <tr>\n",
       "      <th>0</th>\n",
       "      <td>0</td>\n",
       "      <td>3</td>\n",
       "      <td>Mr. Owen Harris Braund</td>\n",
       "      <td>male</td>\n",
       "      <td>22.0</td>\n",
       "      <td>1</td>\n",
       "      <td>0</td>\n",
       "      <td>7.2500</td>\n",
       "    </tr>\n",
       "    <tr>\n",
       "      <th>1</th>\n",
       "      <td>1</td>\n",
       "      <td>1</td>\n",
       "      <td>Mrs. John Bradley (Florence Briggs Thayer) Cum...</td>\n",
       "      <td>female</td>\n",
       "      <td>38.0</td>\n",
       "      <td>1</td>\n",
       "      <td>0</td>\n",
       "      <td>71.2833</td>\n",
       "    </tr>\n",
       "    <tr>\n",
       "      <th>2</th>\n",
       "      <td>1</td>\n",
       "      <td>3</td>\n",
       "      <td>Miss. Laina Heikkinen</td>\n",
       "      <td>female</td>\n",
       "      <td>26.0</td>\n",
       "      <td>0</td>\n",
       "      <td>0</td>\n",
       "      <td>7.9250</td>\n",
       "    </tr>\n",
       "    <tr>\n",
       "      <th>3</th>\n",
       "      <td>1</td>\n",
       "      <td>1</td>\n",
       "      <td>Mrs. Jacques Heath (Lily May Peel) Futrelle</td>\n",
       "      <td>female</td>\n",
       "      <td>35.0</td>\n",
       "      <td>1</td>\n",
       "      <td>0</td>\n",
       "      <td>53.1000</td>\n",
       "    </tr>\n",
       "    <tr>\n",
       "      <th>4</th>\n",
       "      <td>0</td>\n",
       "      <td>3</td>\n",
       "      <td>Mr. William Henry Allen</td>\n",
       "      <td>male</td>\n",
       "      <td>35.0</td>\n",
       "      <td>0</td>\n",
       "      <td>0</td>\n",
       "      <td>8.0500</td>\n",
       "    </tr>\n",
       "  </tbody>\n",
       "</table>\n",
       "</div>"
      ],
      "text/plain": [
       "   Survived  Pclass                                               Name  \\\n",
       "0         0       3                             Mr. Owen Harris Braund   \n",
       "1         1       1  Mrs. John Bradley (Florence Briggs Thayer) Cum...   \n",
       "2         1       3                              Miss. Laina Heikkinen   \n",
       "3         1       1        Mrs. Jacques Heath (Lily May Peel) Futrelle   \n",
       "4         0       3                            Mr. William Henry Allen   \n",
       "\n",
       "      Sex   Age  Siblings/Spouses Aboard  Parents/Children Aboard     Fare  \n",
       "0    male  22.0                        1                        0   7.2500  \n",
       "1  female  38.0                        1                        0  71.2833  \n",
       "2  female  26.0                        0                        0   7.9250  \n",
       "3  female  35.0                        1                        0  53.1000  \n",
       "4    male  35.0                        0                        0   8.0500  "
      ]
     },
     "execution_count": 6,
     "metadata": {},
     "output_type": "execute_result"
    }
   ],
   "source": [
    "titanic.head()"
   ]
  },
  {
   "cell_type": "code",
   "execution_count": 40,
   "metadata": {},
   "outputs": [],
   "source": [
    "#1 – Qual a probabilidade de uma pessoa sobreviver?\n"
   ]
  },
  {
   "cell_type": "code",
   "execution_count": 52,
   "metadata": {},
   "outputs": [
    {
     "name": "stdout",
     "output_type": "stream",
     "text": [
      "342\n"
     ]
    }
   ],
   "source": [
    "#descobrindo o total de pessoas que sobreviveram\n",
    "total_sobreviventes= titanic.query('Survived == 1')['Sex'].count()\n",
    "print(total_sobreviventes)"
   ]
  },
  {
   "cell_type": "code",
   "execution_count": 75,
   "metadata": {},
   "outputs": [
    {
     "name": "stdout",
     "output_type": "stream",
     "text": [
      "545\n"
     ]
    }
   ],
   "source": [
    "#descobrindo o total de pessoas que que não sobreviveram\n",
    "total_mortos=titanic.query('Survived == 0')['Sex'].count()\n",
    "print(total_mortos)"
   ]
  },
  {
   "cell_type": "code",
   "execution_count": 71,
   "metadata": {},
   "outputs": [],
   "source": [
    "total_pessoas = total_sobrevivente + total_mortos\n"
   ]
  },
  {
   "cell_type": "code",
   "execution_count": 72,
   "metadata": {},
   "outputs": [],
   "source": [
    "probabilidade = total_sobreviventes / total_pessoas * 100"
   ]
  },
  {
   "cell_type": "code",
   "execution_count": 73,
   "metadata": {},
   "outputs": [
    {
     "name": "stdout",
     "output_type": "stream",
     "text": [
      "a probabilidade de uma pessoa sobreviver é 38.56\n"
     ]
    }
   ],
   "source": [
    "print(f'a probabilidade de uma pessoa sobreviver é {probabilidade:.2f}')"
   ]
  },
  {
   "cell_type": "code",
   "execution_count": 74,
   "metadata": {},
   "outputs": [],
   "source": [
    "#no Titanic tinha 887 pessoas abordo onde morreram 545 pessoas o que corresponde a 61,44% "
   ]
  },
  {
   "cell_type": "code",
   "execution_count": null,
   "metadata": {},
   "outputs": [],
   "source": []
  },
  {
   "cell_type": "code",
   "execution_count": null,
   "metadata": {},
   "outputs": [],
   "source": [
    "#2 – Qual a Probabilidade de uma mulher sobreviver?"
   ]
  },
  {
   "cell_type": "code",
   "execution_count": null,
   "metadata": {},
   "outputs": [],
   "source": [
    "total=titanic.query('Survived == 1')['Sex'].count()"
   ]
  },
  {
   "cell_type": "code",
   "execution_count": null,
   "metadata": {},
   "outputs": [],
   "source": [
    "print(total)"
   ]
  },
  {
   "cell_type": "code",
   "execution_count": 22,
   "metadata": {},
   "outputs": [],
   "source": [
    "#Contagem da quantidade de mulheres\n",
    "mulheres = titanic.query('Sex == \"female\"')['Sex'].count()\n"
   ]
  },
  {
   "cell_type": "code",
   "execution_count": null,
   "metadata": {},
   "outputs": [],
   "source": [
    "#Contagem da quantidade mulheres que sobreviveram\n",
    "mulheres_sobreviventes = titanic.query('Sex == \"female\" and Survived == 1')['Sex'].count()"
   ]
  },
  {
   "cell_type": "code",
   "execution_count": 26,
   "metadata": {},
   "outputs": [],
   "source": [
    "#Calculo de probabilidade\n",
    "resultado = mulheres_sobreviventes  / mulheres * 100"
   ]
  },
  {
   "cell_type": "code",
   "execution_count": 28,
   "metadata": {},
   "outputs": [
    {
     "name": "stdout",
     "output_type": "stream",
     "text": [
      "a probabilidade de uma mulher sobreviver é 74.20\n"
     ]
    }
   ],
   "source": [
    "print(f'a probabilidade de uma mulher sobreviver é {resultado:.2f}')"
   ]
  },
  {
   "cell_type": "code",
   "execution_count": 66,
   "metadata": {},
   "outputs": [],
   "source": [
    "#3 – Qual a probabilidade de uma pessoa com mais de 45 anos sobreviver?\n",
    "\n",
    "\n"
   ]
  },
  {
   "cell_type": "code",
   "execution_count": 68,
   "metadata": {},
   "outputs": [
    {
     "name": "stdout",
     "output_type": "stream",
     "text": [
      "120\n"
     ]
    }
   ],
   "source": [
    "# descobrindo quantas pessoas acima de 45 tinha abordo do titanic\n",
    "total_acima_45 =titanic.query('Age > 45')['Age'].count()\n",
    "print(total_acima_45)"
   ]
  },
  {
   "cell_type": "code",
   "execution_count": 70,
   "metadata": {},
   "outputs": [
    {
     "name": "stdout",
     "output_type": "stream",
     "text": [
      "44\n"
     ]
    }
   ],
   "source": [
    "# descobrindo quantas pessoas acima de 45 tinha abordo do titanic e sobreviveram\n",
    "total_acima_45_sobrevivente=titanic.query('Age > 45 and Survived == 1 ')['Age'].count()\n",
    "print(total_acima_45_sobrevivente)"
   ]
  },
  {
   "cell_type": "code",
   "execution_count": 76,
   "metadata": {},
   "outputs": [],
   "source": [
    "resultado = total_acima_45_sobrevivente / total_acima_45 * 100"
   ]
  },
  {
   "cell_type": "code",
   "execution_count": 77,
   "metadata": {},
   "outputs": [
    {
     "name": "stdout",
     "output_type": "stream",
     "text": [
      "a probalidade de uma pessoa acima de 45 anos sobreviver é de 36.67%\n"
     ]
    }
   ],
   "source": [
    "print(f'a probalidade de uma pessoa acima de 45 anos sobreviver é de {resultado:.2f}%')"
   ]
  },
  {
   "cell_type": "code",
   "execution_count": null,
   "metadata": {},
   "outputs": [],
   "source": []
  },
  {
   "cell_type": "code",
   "execution_count": null,
   "metadata": {},
   "outputs": [],
   "source": [
    "#4 – Qual a probabilidade de uma mulher ou de uma pessoa da 3ª classe sobreviver?"
   ]
  },
  {
   "cell_type": "code",
   "execution_count": null,
   "metadata": {},
   "outputs": [],
   "source": [
    "#para esse problema 'o', precisamos somar os resultados das duas variaveis(mulher e pessoa da 3ª classe)"
   ]
  },
  {
   "cell_type": "code",
   "execution_count": 87,
   "metadata": {},
   "outputs": [],
   "source": [
    "#desconbrindo o total de mulheres\n",
    "total_mulheres = titanic.query('Sex == \"female\"')['Sex'].count()"
   ]
  },
  {
   "cell_type": "code",
   "execution_count": 79,
   "metadata": {},
   "outputs": [],
   "source": [
    "#desconbrindo o total de mulheres que sobreviveram\n",
    "mulheres_sobreviventes = titanic.query('Sex == \"female\" and Survived == 1')['Sex'].count()"
   ]
  },
  {
   "cell_type": "code",
   "execution_count": 89,
   "metadata": {},
   "outputs": [],
   "source": [
    "resultado_mulheres = mulheres_sobreviventes / total_mulheres * 100"
   ]
  },
  {
   "cell_type": "code",
   "execution_count": 91,
   "metadata": {},
   "outputs": [
    {
     "name": "stdout",
     "output_type": "stream",
     "text": [
      "a probabilidade de uma mulher sobreviver é de 74.20%\n"
     ]
    }
   ],
   "source": [
    "print(f'a probabilidade de uma mulher sobreviver é de {resultado_mulheres:.2f}%')"
   ]
  },
  {
   "cell_type": "code",
   "execution_count": 92,
   "metadata": {},
   "outputs": [],
   "source": [
    "#desconbrindo o total de pessoas da terceira classe\n",
    "total_terceira_classe = titanic.query('Pclass == 3')['Pclass'].count()"
   ]
  },
  {
   "cell_type": "code",
   "execution_count": null,
   "metadata": {},
   "outputs": [],
   "source": [
    "#desconbrindo o total de pessoas da terceira classe sobreviveram\n",
    "terceira_classe_sobreviventes = titanic.query('Pclass == 3 and Survived == 1')['Pclass'].count()"
   ]
  },
  {
   "cell_type": "code",
   "execution_count": 94,
   "metadata": {},
   "outputs": [],
   "source": [
    "resultado_terceira_classe = terceira_classe_sobreviventes / total_terceira_classe * 100\n"
   ]
  },
  {
   "cell_type": "code",
   "execution_count": 111,
   "metadata": {},
   "outputs": [
    {
     "name": "stdout",
     "output_type": "stream",
     "text": [
      "a probabilidade de uma pessoa da terceira classe sobreviver é de 24.44%\n"
     ]
    }
   ],
   "source": [
    "print(f'a probabilidade de uma pessoa da terceira classe sobreviver é de {resultado_terceira_classe:.2f}%')"
   ]
  },
  {
   "cell_type": "code",
   "execution_count": 98,
   "metadata": {},
   "outputs": [
    {
     "name": "stdout",
     "output_type": "stream",
     "text": [
      "a probabilidade de uma mulher ou uma pessoa da terceira classe sobreviver é de 98.64%\n"
     ]
    }
   ],
   "source": [
    "#somando o resultado das variaves mulher ou terceira classe\n",
    "\n",
    "mulher_ou_terceira_classe = resultado_mulheres + resultado_terceira_classe\n",
    "print(f'a probabilidade de uma mulher ou uma pessoa da terceira classe sobreviver é de {mulher_ou_terceira_classe:.2f}%')"
   ]
  },
  {
   "cell_type": "code",
   "execution_count": null,
   "metadata": {},
   "outputs": [],
   "source": []
  },
  {
   "cell_type": "code",
   "execution_count": null,
   "metadata": {},
   "outputs": [],
   "source": [
    "#5 – Qual a probabilidade de um homem e uma pessoa da 1ªclasse sobreviver"
   ]
  },
  {
   "cell_type": "code",
   "execution_count": 99,
   "metadata": {},
   "outputs": [],
   "source": [
    "#para esse problema 'e', precisamos multiplicar os resultados das duas variaveis(homem e pessoa da 1ª classe)"
   ]
  },
  {
   "cell_type": "code",
   "execution_count": 100,
   "metadata": {},
   "outputs": [],
   "source": [
    "#desconbrindo o total de homens\n",
    "total_homens = titanic.query('Sex == \"male\"')['Sex'].count()\n"
   ]
  },
  {
   "cell_type": "code",
   "execution_count": 102,
   "metadata": {},
   "outputs": [],
   "source": [
    "#Contagem da quantidade homens que sobreviveram\n",
    "homens_sobreviventes = titanic.query('Sex == \"male\" and Survived == 1')['Sex'].count()"
   ]
  },
  {
   "cell_type": "code",
   "execution_count": 103,
   "metadata": {},
   "outputs": [],
   "source": [
    "resultado_homens = homens_sobreviventes / total_homens * 100"
   ]
  },
  {
   "cell_type": "code",
   "execution_count": 104,
   "metadata": {},
   "outputs": [
    {
     "name": "stdout",
     "output_type": "stream",
     "text": [
      "a probabilidade de um homem sobreviver é de 19.02%\n"
     ]
    }
   ],
   "source": [
    "print(f'a probabilidade de um homem sobreviver é de {resultado_homens:.2f}%')"
   ]
  },
  {
   "cell_type": "code",
   "execution_count": 109,
   "metadata": {},
   "outputs": [],
   "source": [
    "#desconbrindo o total de pessoas da primeira classe\n",
    "total_primeira_classe = titanic.query('Pclass == 1')['Pclass'].count()"
   ]
  },
  {
   "cell_type": "code",
   "execution_count": 117,
   "metadata": {},
   "outputs": [],
   "source": [
    "#desconbrindo o total de pessoas da primeira classe sobreviveram\n",
    "primeira_classe_sobreviventes = titanic.query('Pclass == 1 and Survived == 1')['Pclass'].count()"
   ]
  },
  {
   "cell_type": "code",
   "execution_count": 118,
   "metadata": {},
   "outputs": [],
   "source": [
    "resultado_primeira_classe = primeira_classe_sobreviventes / total_primeira_classe * 100"
   ]
  },
  {
   "cell_type": "code",
   "execution_count": 116,
   "metadata": {},
   "outputs": [
    {
     "name": "stdout",
     "output_type": "stream",
     "text": [
      "216\n"
     ]
    }
   ],
   "source": [
    "print(total_primeira_classe)"
   ]
  },
  {
   "cell_type": "code",
   "execution_count": 119,
   "metadata": {},
   "outputs": [
    {
     "name": "stdout",
     "output_type": "stream",
     "text": [
      "a probabilidade de uma pessoa da primeira classe sobreviver é de 62.96%\n"
     ]
    }
   ],
   "source": [
    "print(f'a probabilidade de uma pessoa da primeira classe sobreviver é de {resultado_primeira_classe:.2f}%')"
   ]
  },
  {
   "cell_type": "code",
   "execution_count": 114,
   "metadata": {},
   "outputs": [
    {
     "name": "stdout",
     "output_type": "stream",
     "text": [
      "a probabilidade de um homem e uma pessoa da primeira classe sobreviver é de 1197.72%\n"
     ]
    }
   ],
   "source": [
    "#multiplicando o resultado das variaves mulher ou terceira classe\n",
    "\n",
    "homem_e_primeira_classe = resultado_homens  * resultado_primeira_classe\n",
    "print(f'a probabilidade de um homem e uma pessoa da primeira classe sobreviver é de {homem_e_primeira_classe:.2f}%')"
   ]
  },
  {
   "cell_type": "code",
   "execution_count": null,
   "metadata": {},
   "outputs": [],
   "source": []
  }
 ],
 "metadata": {
  "kernelspec": {
   "display_name": "Python 3",
   "language": "python",
   "name": "python3"
  },
  "language_info": {
   "codemirror_mode": {
    "name": "ipython",
    "version": 3
   },
   "file_extension": ".py",
   "mimetype": "text/x-python",
   "name": "python",
   "nbconvert_exporter": "python",
   "pygments_lexer": "ipython3",
   "version": "3.8.5"
  }
 },
 "nbformat": 4,
 "nbformat_minor": 4
}
